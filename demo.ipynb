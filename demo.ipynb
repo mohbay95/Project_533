{
 "cells": [
  {
   "cell_type": "code",
   "execution_count": 9,
   "id": "83611432-8b4f-4913-a9b1-2636876109e7",
   "metadata": {},
   "outputs": [],
   "source": [
    "from Board.board import Board\n",
    "from SnakesAndLadders.snakesandladders import SnakeAndLadder\n",
    "from Player.player import Player\n",
    "from Utility.utility import Utility\n",
    "from Game.game import Game"
   ]
  },
  {
   "cell_type": "code",
   "execution_count": 2,
   "id": "d0f22b1a-20f8-4e9c-8805-94661397ce4e",
   "metadata": {},
   "outputs": [
    {
     "name": "stderr",
     "output_type": "stream",
     "text": [
      "C:\\Users\\moham\\AppData\\Local\\Temp\\ipykernel_14380\\2116152511.py:15: DeprecationWarning: unittest.makeSuite() is deprecated and will be removed in Python 3.13. Please use unittest.TestLoader.loadTestsFromTestCase() instead.\n",
      "  suite.addTest(unittest.makeSuite(TestGame))\n",
      "C:\\Users\\moham\\AppData\\Local\\Temp\\ipykernel_14380\\2116152511.py:16: DeprecationWarning: unittest.makeSuite() is deprecated and will be removed in Python 3.13. Please use unittest.TestLoader.loadTestsFromTestCase() instead.\n",
      "  suite.addTest(unittest.makeSuite(TestPlayer))\n",
      "C:\\Users\\moham\\AppData\\Local\\Temp\\ipykernel_14380\\2116152511.py:17: DeprecationWarning: unittest.makeSuite() is deprecated and will be removed in Python 3.13. Please use unittest.TestLoader.loadTestsFromTestCase() instead.\n",
      "  suite.addTest(unittest.makeSuite(TestSnakeAndLadder))\n",
      "C:\\Users\\moham\\AppData\\Local\\Temp\\ipykernel_14380\\2116152511.py:18: DeprecationWarning: unittest.makeSuite() is deprecated and will be removed in Python 3.13. Please use unittest.TestLoader.loadTestsFromTestCase() instead.\n",
      "  suite.addTest(unittest.makeSuite(TestUtility))\n",
      "C:\\Users\\moham\\AppData\\Local\\Temp\\ipykernel_14380\\2116152511.py:19: DeprecationWarning: unittest.makeSuite() is deprecated and will be removed in Python 3.13. Please use unittest.TestLoader.loadTestsFromTestCase() instead.\n",
      "  suite.addTest(unittest.makeSuite(TestBoard))\n",
      "."
     ]
    },
    {
     "name": "stdout",
     "output_type": "stream",
     "text": [
      "\n",
      "Setting up the test class for Game tests...\n",
      "\n",
      "Setting up for a test in the Game test class...\n",
      "\n",
      "Tearing down after a test in the Game test class...\n",
      "\n",
      "Setting up for a test in the Game test class...\n",
      "Player 1's turn (Position: 95)\n"
     ]
    },
    {
     "name": "stdin",
     "output_type": "stream",
     "text": [
      "Press Enter to roll the dice...  \n"
     ]
    },
    {
     "name": "stderr",
     "output_type": "stream",
     "text": [
      ".........\n",
      "----------------------------------------------------------------------\n",
      "Ran 10 tests in 0.960s\n",
      "\n",
      "OK\n"
     ]
    },
    {
     "name": "stdout",
     "output_type": "stream",
     "text": [
      "Player 1 rolled a 4\n",
      "Player 1 moves to 99\n",
      "-------------------------------------------------------------------------------------\n",
      "|  ⬜   |  🔵   |  🐍   |  ⬜   |  ⬜   |  🐍   |  ⬜   |  🐍   |  ⬜   |  ⬜  |\n",
      "-------------------------------------------------------------------------------------\n",
      "|  ⬜   |  ⬜   |  ⬜   |  ⬜   |  ⬜   |  ⬜   |  🐍   |  ⬜   |  ⬜   |  ⬜  |\n",
      "-------------------------------------------------------------------------------------\n",
      "|  🪜   |  ⬜   |  ⬜   |  ⬜   |  ⬜   |  ⬜   |  ⬜   |  ⬜   |  ⬜   |  🪜  |\n",
      "-------------------------------------------------------------------------------------\n",
      "|  ⬜   |  🐍   |  ⬜   |  🐍   |  ⬜   |  ⬜   |  ⬜   |  ⬜   |  ⬜   |  ⬜  |\n",
      "-------------------------------------------------------------------------------------\n",
      "|  ⬜   |  ⬜   |  ⬜   |  ⬜   |  🐍   |  ⬜   |  ⬜   |  ⬜   |  ⬜   |  🪜  |\n",
      "-------------------------------------------------------------------------------------\n",
      "|  ⬜   |  ⬜   |  ⬜   |  ⬜   |  ⬜   |  ⬜   |  🐍   |  ⬜   |  🐍   |  ⬜  |\n",
      "-------------------------------------------------------------------------------------\n",
      "|  ⬜   |  ⬜   |  ⬜   |  ⬜   |  🪜   |  ⬜   |  ⬜   |  ⬜   |  ⬜   |  ⬜  |\n",
      "-------------------------------------------------------------------------------------\n",
      "|  🪜   |  ⬜   |  ⬜   |  ⬜   |  ⬜   |  ⬜   |  ⬜   |  🪜   |  ⬜   |  ⬜  |\n",
      "-------------------------------------------------------------------------------------\n",
      "|  ⬜   |  ⬜   |  ⬜   |  ⬜   |  🐍   |  ⬜   |  ⬜   |  ⬜   |  ⬜   |  ⬜  |\n",
      "-------------------------------------------------------------------------------------\n",
      "|  🟡   |  ⬜   |  ⬜   |  🪜   |  ⬜   |  ⬜   |  ⬜   |  ⬜   |  🪜   |  ⬜  |\n",
      "-------------------------------------------------------------------------------------\n",
      "\n",
      "\n",
      "\n",
      "Tearing down after a test in the Game test class...\n",
      "\n",
      "Tearing down the test class for Game tests...\n",
      "\n",
      "Setting up the test class for Player tests...\n",
      "\n",
      "Setting up for a test in the Player test class...\n",
      "\n",
      "Tearing down after a test in the Player test class...\n",
      "\n",
      "Setting up for a test in the Player test class...\n",
      "\n",
      "Tearing down after a test in the Player test class...\n",
      "\n",
      "Tearing down the test class for Player tests...\n",
      "\n",
      "Setting up the test class for Snake and Ladder tests...\n",
      "\n",
      "Setting up for a test in the Snake and Ladder test class...\n",
      "\n",
      "Tearing down after a test in the Snake and Ladder test class...\n",
      "\n",
      "Setting up for a test in the Snake and Ladder test class...\n",
      "\n",
      "Tearing down after a test in the Snake and Ladder test class...\n",
      "\n",
      "Tearing down the test class for Snake and Ladder tests...\n",
      "\n",
      "Setting up the test class for Utility tests...\n",
      "\n",
      "Setting up for a test in the Utility test class...\n",
      " ____   _   _     _     _  __ _____  ____       _     _   _  ____    _         _     ____   ____   _____  ____   ____  \n",
      "/ ___| | \\ | |   / \\   | |/ /| ____|/ ___|     / \\   | \\ | ||  _ \\  | |       / \\   |  _ \\ |  _ \\ | ____||  _ \\ / ___| \n",
      "\\___ \\ |  \\| |  / _ \\  | ' / |  _|  \\___ \\    / _ \\  |  \\| || | | | | |      / _ \\  | | | || | | ||  _|  | |_) |\\___ \\ \n",
      " ___) || |\\  | / ___ \\ | . \\ | |___  ___) |  / ___ \\ | |\\  || |_| | | |___  / ___ \\ | |_| || |_| || |___ |  _ <  ___) |\n",
      "|____/ |_| \\_|/_/   \\_\\|_|\\_\\|_____||____/  /_/   \\_\\|_| \\_||____/  |_____|/_/   \\_\\|____/ |____/ |_____||_| \\_\\|____/ \n",
      "                                                                                                                       \n",
      "\n",
      "  ____   ___   _   _   ____  ____      _     _____  _   _  _         _     _____  ___   ___   _   _  ____  \n",
      " / ___| / _ \\ | \\ | | / ___||  _ \\    / \\   |_   _|| | | || |       / \\   |_   _||_ _| / _ \\ | \\ | |/ ___| \n",
      "| |    | | | ||  \\| || |  _ | |_) |  / _ \\    | |  | | | || |      / _ \\    | |   | | | | | ||  \\| |\\___ \\ \n",
      "| |___ | |_| || |\\  || |_| ||  _ <  / ___ \\   | |  | |_| || |___  / ___ \\   | |   | | | |_| || |\\  | ___) |\n",
      " \\____| \\___/ |_| \\_| \\____||_| \\_\\/_/   \\_\\  |_|   \\___/ |_____|/_/   \\_\\  |_|  |___| \\___/ |_| \\_||____/ \n",
      "                                                                                                           \n",
      "\n",
      "\n",
      "Tearing down after a test in the Utility test class...\n",
      "\n",
      "Setting up for a test in the Utility test class...\n",
      "\n",
      "Tearing down after a test in the Utility test class...\n",
      "\n",
      "Tearing down the test class for Utility tests...\n",
      "\n",
      "Setting up the test class for Board tests...\n",
      "\n",
      "Setting up for a test in the Board test class...\n",
      "-------------------------------------------------------------------------------------\n",
      "|  ⬜   |  ⬜   |  ⬜   |  ⬜   |  ⬜   |  ⬜   |  ⬜   |  ⬜   |  ⬜   |  ⬜  |\n",
      "-------------------------------------------------------------------------------------\n",
      "|  ⬜   |  ⬜   |  ⬜   |  ⬜   |  ⬜   |  ⬜   |  ⬜   |  ⬜   |  ⬜   |  ⬜  |\n",
      "-------------------------------------------------------------------------------------\n",
      "|  ⬜   |  ⬜   |  ⬜   |  ⬜   |  ⬜   |  ⬜   |  ⬜   |  ⬜   |  ⬜   |  ⬜  |\n",
      "-------------------------------------------------------------------------------------\n",
      "|  ⬜   |  ⬜   |  ⬜   |  ⬜   |  ⬜   |  ⬜   |  ⬜   |  ⬜   |  ⬜   |  ⬜  |\n",
      "-------------------------------------------------------------------------------------\n",
      "|  ⬜   |  ⬜   |  ⬜   |  ⬜   |  ⬜   |  ⬜   |  ⬜   |  ⬜   |  ⬜   |  ⬜  |\n",
      "-------------------------------------------------------------------------------------\n",
      "|  ⬜   |  ⬜   |  ⬜   |  ⬜   |  ⬜   |  ⬜   |  ⬜   |  ⬜   |  ⬜   |  ⬜  |\n",
      "-------------------------------------------------------------------------------------\n",
      "|  ⬜   |  ⬜   |  ⬜   |  ⬜   |  ⬜   |  ⬜   |  ⬜   |  ⬜   |  ⬜   |  ⬜  |\n",
      "-------------------------------------------------------------------------------------\n",
      "|  ⬜   |  ⬜   |  ⬜   |  ⬜   |  ⬜   |  ⬜   |  ⬜   |  ⬜   |  ⬜   |  ⬜  |\n",
      "-------------------------------------------------------------------------------------\n",
      "|  ⬜   |  ⬜   |  ⬜   |  ⬜   |  🐍   |  ⬜   |  ⬜   |  ⬜   |  ⬜   |  ⬜  |\n",
      "-------------------------------------------------------------------------------------\n",
      "|  🔴   |  ⬜   |  ⬜   |  ⬜   |  ⬜   |  ⬜   |  ⬜   |  ⬜   |  ⬜   |  ⬜  |\n",
      "-------------------------------------------------------------------------------------\n",
      "\n",
      "\n",
      "\n",
      "Tearing down after a test in the Board test class...\n",
      "\n",
      "Setting up for a test in the Board test class...\n",
      "\n",
      "Tearing down after a test in the Board test class...\n",
      "\n",
      "Tearing down the test class for Board tests...\n"
     ]
    },
    {
     "data": {
      "text/plain": [
       "<unittest.runner.TextTestResult run=10 errors=0 failures=0>"
      ]
     },
     "execution_count": 2,
     "metadata": {},
     "output_type": "execute_result"
    }
   ],
   "source": [
    "import unittest\n",
    "\n",
    "# Import the test classes\n",
    "from Test.test_game import TestGame\n",
    "from Test.test_player import TestPlayer\n",
    "from Test.test_snakes_ladders import TestSnakeAndLadder\n",
    "from Test.test_util import TestUtility\n",
    "from Test.test_board import TestBoard\n",
    "\n",
    "# Create a test suite\n",
    "def suite():\n",
    "    suite = unittest.TestSuite()\n",
    "\n",
    "    # Add individual test cases (classes) to the suite\n",
    "    suite.addTest(unittest.makeSuite(TestGame))\n",
    "    suite.addTest(unittest.makeSuite(TestPlayer))\n",
    "    suite.addTest(unittest.makeSuite(TestSnakeAndLadder))\n",
    "    suite.addTest(unittest.makeSuite(TestUtility))\n",
    "    suite.addTest(unittest.makeSuite(TestBoard))\n",
    "\n",
    "    return suite\n",
    "\n",
    "# Run the test suite\n",
    "runner = unittest.TextTestRunner()\n",
    "runner.run(suite())\n"
   ]
  },
  {
   "cell_type": "code",
   "execution_count": 11,
   "id": "801a7b0e-5d18-4e13-b1d2-a1e56dc58662",
   "metadata": {},
   "outputs": [
    {
     "name": "stdout",
     "output_type": "stream",
     "text": [
      " ____   _   _     _     _  __ _____  ____       _     _   _  ____    _         _     ____   ____   _____  ____   ____  \n",
      "/ ___| | \\ | |   / \\   | |/ /| ____|/ ___|     / \\   | \\ | ||  _ \\  | |       / \\   |  _ \\ |  _ \\ | ____||  _ \\ / ___| \n",
      "\\___ \\ |  \\| |  / _ \\  | ' / |  _|  \\___ \\    / _ \\  |  \\| || | | | | |      / _ \\  | | | || | | ||  _|  | |_) |\\___ \\ \n",
      " ___) || |\\  | / ___ \\ | . \\ | |___  ___) |  / ___ \\ | |\\  || |_| | | |___  / ___ \\ | |_| || |_| || |___ |  _ <  ___) |\n",
      "|____/ |_| \\_|/_/   \\_\\|_|\\_\\|_____||____/  /_/   \\_\\|_| \\_||____/  |_____|/_/   \\_\\|____/ |____/ |_____||_| \\_\\|____/ \n",
      "                                                                                                                       \n",
      "\n",
      "-------------------------------------------------------------------------------------\n",
      "|  ⬜   |  ⬜   |  🐍   |  ⬜   |  ⬜   |  🐍   |  ⬜   |  🐍   |  ⬜   |  ⬜  |\n",
      "-------------------------------------------------------------------------------------\n",
      "|  ⬜   |  ⬜   |  ⬜   |  ⬜   |  ⬜   |  ⬜   |  🐍   |  ⬜   |  ⬜   |  ⬜  |\n",
      "-------------------------------------------------------------------------------------\n",
      "|  🪜   |  ⬜   |  ⬜   |  ⬜   |  ⬜   |  ⬜   |  ⬜   |  ⬜   |  ⬜   |  🪜  |\n",
      "-------------------------------------------------------------------------------------\n",
      "|  ⬜   |  🐍   |  ⬜   |  🐍   |  ⬜   |  ⬜   |  ⬜   |  ⬜   |  ⬜   |  ⬜  |\n",
      "-------------------------------------------------------------------------------------\n",
      "|  ⬜   |  ⬜   |  ⬜   |  ⬜   |  🐍   |  ⬜   |  ⬜   |  ⬜   |  ⬜   |  🪜  |\n",
      "-------------------------------------------------------------------------------------\n",
      "|  ⬜   |  ⬜   |  ⬜   |  ⬜   |  ⬜   |  ⬜   |  🐍   |  ⬜   |  🐍   |  ⬜  |\n",
      "-------------------------------------------------------------------------------------\n",
      "|  ⬜   |  ⬜   |  ⬜   |  ⬜   |  🪜   |  ⬜   |  ⬜   |  ⬜   |  ⬜   |  ⬜  |\n",
      "-------------------------------------------------------------------------------------\n",
      "|  🪜   |  ⬜   |  ⬜   |  ⬜   |  ⬜   |  ⬜   |  ⬜   |  🪜   |  ⬜   |  ⬜  |\n",
      "-------------------------------------------------------------------------------------\n",
      "|  ⬜   |  ⬜   |  ⬜   |  ⬜   |  🐍   |  ⬜   |  ⬜   |  ⬜   |  ⬜   |  ⬜  |\n",
      "-------------------------------------------------------------------------------------\n",
      "|  🔴   |  ⬜   |  ⬜   |  🪜   |  ⬜   |  ⬜   |  ⬜   |  ⬜   |  🪜   |  ⬜  |\n",
      "-------------------------------------------------------------------------------------\n",
      "\n",
      "\n",
      "Player 1's turn (Position: 1)\n"
     ]
    },
    {
     "ename": "KeyboardInterrupt",
     "evalue": "Interrupted by user",
     "output_type": "error",
     "traceback": [
      "\u001b[1;31m---------------------------------------------------------------------------\u001b[0m",
      "\u001b[1;31mKeyboardInterrupt\u001b[0m                         Traceback (most recent call last)",
      "Cell \u001b[1;32mIn[11], line 2\u001b[0m\n\u001b[0;32m      1\u001b[0m game \u001b[38;5;241m=\u001b[39m Game()\n\u001b[1;32m----> 2\u001b[0m game\u001b[38;5;241m.\u001b[39mstart_game()\n",
      "File \u001b[1;32m~\\project\\Game\\game.py:51\u001b[0m, in \u001b[0;36mGame.start_game\u001b[1;34m(self)\u001b[0m\n\u001b[0;32m     49\u001b[0m \u001b[38;5;28mself\u001b[39m\u001b[38;5;241m.\u001b[39mboard\u001b[38;5;241m.\u001b[39mprint_board_with_emojis(\u001b[38;5;28mself\u001b[39m\u001b[38;5;241m.\u001b[39mplayers\u001b[38;5;241m.\u001b[39mget_positions(), \u001b[38;5;28mself\u001b[39m\u001b[38;5;241m.\u001b[39msnake_and_ladder\u001b[38;5;241m.\u001b[39mget_snakes(), \u001b[38;5;28mself\u001b[39m\u001b[38;5;241m.\u001b[39msnake_and_ladder\u001b[38;5;241m.\u001b[39mget_ladders())\n\u001b[0;32m     50\u001b[0m \u001b[38;5;28;01mwhile\u001b[39;00m \u001b[38;5;28;01mTrue\u001b[39;00m:\n\u001b[1;32m---> 51\u001b[0m     \u001b[38;5;28;01mif\u001b[39;00m \u001b[38;5;28mself\u001b[39m\u001b[38;5;241m.\u001b[39mplay_turn():\n\u001b[0;32m     52\u001b[0m         \u001b[38;5;28;01mbreak\u001b[39;00m\n",
      "File \u001b[1;32m~\\project\\Game\\game.py:16\u001b[0m, in \u001b[0;36mGame.play_turn\u001b[1;34m(self)\u001b[0m\n\u001b[0;32m     14\u001b[0m \u001b[38;5;28;01mdef\u001b[39;00m \u001b[38;5;21mplay_turn\u001b[39m(\u001b[38;5;28mself\u001b[39m):\n\u001b[0;32m     15\u001b[0m     \u001b[38;5;28mprint\u001b[39m(\u001b[38;5;124mf\u001b[39m\u001b[38;5;124m\"\u001b[39m\u001b[38;5;124mPlayer \u001b[39m\u001b[38;5;132;01m{\u001b[39;00m\u001b[38;5;28mself\u001b[39m\u001b[38;5;241m.\u001b[39mcurrent_player\u001b[38;5;250m \u001b[39m\u001b[38;5;241m+\u001b[39m\u001b[38;5;250m \u001b[39m\u001b[38;5;241m1\u001b[39m\u001b[38;5;132;01m}\u001b[39;00m\u001b[38;5;124m'\u001b[39m\u001b[38;5;124ms turn (Position: \u001b[39m\u001b[38;5;132;01m{\u001b[39;00m\u001b[38;5;28mself\u001b[39m\u001b[38;5;241m.\u001b[39mplayers\u001b[38;5;241m.\u001b[39mget_position(\u001b[38;5;28mself\u001b[39m\u001b[38;5;241m.\u001b[39mcurrent_player)\u001b[38;5;132;01m}\u001b[39;00m\u001b[38;5;124m)\u001b[39m\u001b[38;5;124m\"\u001b[39m)\n\u001b[1;32m---> 16\u001b[0m     \u001b[38;5;28minput\u001b[39m(\u001b[38;5;124m\"\u001b[39m\u001b[38;5;124mPress Enter to roll the dice... \u001b[39m\u001b[38;5;124m\"\u001b[39m)\n\u001b[0;32m     17\u001b[0m     roll \u001b[38;5;241m=\u001b[39m Utility\u001b[38;5;241m.\u001b[39mroll_dice()  \u001b[38;5;66;03m# Use the Utility module for dice rolls\u001b[39;00m\n\u001b[0;32m     18\u001b[0m     \u001b[38;5;28mprint\u001b[39m(\u001b[38;5;124mf\u001b[39m\u001b[38;5;124m\"\u001b[39m\u001b[38;5;124mPlayer \u001b[39m\u001b[38;5;132;01m{\u001b[39;00m\u001b[38;5;28mself\u001b[39m\u001b[38;5;241m.\u001b[39mcurrent_player\u001b[38;5;250m \u001b[39m\u001b[38;5;241m+\u001b[39m\u001b[38;5;250m \u001b[39m\u001b[38;5;241m1\u001b[39m\u001b[38;5;132;01m}\u001b[39;00m\u001b[38;5;124m rolled a \u001b[39m\u001b[38;5;132;01m{\u001b[39;00mroll\u001b[38;5;132;01m}\u001b[39;00m\u001b[38;5;124m\"\u001b[39m)\n",
      "File \u001b[1;32m~\\anaconda3\\Lib\\site-packages\\ipykernel\\kernelbase.py:1282\u001b[0m, in \u001b[0;36mKernel.raw_input\u001b[1;34m(self, prompt)\u001b[0m\n\u001b[0;32m   1280\u001b[0m     msg \u001b[38;5;241m=\u001b[39m \u001b[38;5;124m\"\u001b[39m\u001b[38;5;124mraw_input was called, but this frontend does not support input requests.\u001b[39m\u001b[38;5;124m\"\u001b[39m\n\u001b[0;32m   1281\u001b[0m     \u001b[38;5;28;01mraise\u001b[39;00m StdinNotImplementedError(msg)\n\u001b[1;32m-> 1282\u001b[0m \u001b[38;5;28;01mreturn\u001b[39;00m \u001b[38;5;28mself\u001b[39m\u001b[38;5;241m.\u001b[39m_input_request(\n\u001b[0;32m   1283\u001b[0m     \u001b[38;5;28mstr\u001b[39m(prompt),\n\u001b[0;32m   1284\u001b[0m     \u001b[38;5;28mself\u001b[39m\u001b[38;5;241m.\u001b[39m_parent_ident[\u001b[38;5;124m\"\u001b[39m\u001b[38;5;124mshell\u001b[39m\u001b[38;5;124m\"\u001b[39m],\n\u001b[0;32m   1285\u001b[0m     \u001b[38;5;28mself\u001b[39m\u001b[38;5;241m.\u001b[39mget_parent(\u001b[38;5;124m\"\u001b[39m\u001b[38;5;124mshell\u001b[39m\u001b[38;5;124m\"\u001b[39m),\n\u001b[0;32m   1286\u001b[0m     password\u001b[38;5;241m=\u001b[39m\u001b[38;5;28;01mFalse\u001b[39;00m,\n\u001b[0;32m   1287\u001b[0m )\n",
      "File \u001b[1;32m~\\anaconda3\\Lib\\site-packages\\ipykernel\\kernelbase.py:1325\u001b[0m, in \u001b[0;36mKernel._input_request\u001b[1;34m(self, prompt, ident, parent, password)\u001b[0m\n\u001b[0;32m   1322\u001b[0m \u001b[38;5;28;01mexcept\u001b[39;00m \u001b[38;5;167;01mKeyboardInterrupt\u001b[39;00m:\n\u001b[0;32m   1323\u001b[0m     \u001b[38;5;66;03m# re-raise KeyboardInterrupt, to truncate traceback\u001b[39;00m\n\u001b[0;32m   1324\u001b[0m     msg \u001b[38;5;241m=\u001b[39m \u001b[38;5;124m\"\u001b[39m\u001b[38;5;124mInterrupted by user\u001b[39m\u001b[38;5;124m\"\u001b[39m\n\u001b[1;32m-> 1325\u001b[0m     \u001b[38;5;28;01mraise\u001b[39;00m \u001b[38;5;167;01mKeyboardInterrupt\u001b[39;00m(msg) \u001b[38;5;28;01mfrom\u001b[39;00m \u001b[38;5;28;01mNone\u001b[39;00m\n\u001b[0;32m   1326\u001b[0m \u001b[38;5;28;01mexcept\u001b[39;00m \u001b[38;5;167;01mException\u001b[39;00m:\n\u001b[0;32m   1327\u001b[0m     \u001b[38;5;28mself\u001b[39m\u001b[38;5;241m.\u001b[39mlog\u001b[38;5;241m.\u001b[39mwarning(\u001b[38;5;124m\"\u001b[39m\u001b[38;5;124mInvalid Message:\u001b[39m\u001b[38;5;124m\"\u001b[39m, exc_info\u001b[38;5;241m=\u001b[39m\u001b[38;5;28;01mTrue\u001b[39;00m)\n",
      "\u001b[1;31mKeyboardInterrupt\u001b[0m: Interrupted by user"
     ]
    }
   ],
   "source": [
    "game = Game()\n",
    "game.start_game()"
   ]
  },
  {
   "cell_type": "code",
   "execution_count": null,
   "id": "507db734-002b-4d17-96c2-1c62762dff5a",
   "metadata": {},
   "outputs": [],
   "source": []
  }
 ],
 "metadata": {
  "kernelspec": {
   "display_name": "Python 3 (ipykernel)",
   "language": "python",
   "name": "python3"
  },
  "language_info": {
   "codemirror_mode": {
    "name": "ipython",
    "version": 3
   },
   "file_extension": ".py",
   "mimetype": "text/x-python",
   "name": "python",
   "nbconvert_exporter": "python",
   "pygments_lexer": "ipython3",
   "version": "3.12.3"
  }
 },
 "nbformat": 4,
 "nbformat_minor": 5
}
